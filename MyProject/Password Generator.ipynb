{
 "cells": [
  {
   "cell_type": "markdown",
   "metadata": {},
   "source": [
    "# Random Password Generator Bot"
   ]
  },
  {
   "cell_type": "markdown",
   "metadata": {},
   "source": [
    "My project is a bot that generates a random password for users. When creating the password, the user is able to decide whether they want to add numbers and punctuation in the password. Although there are many websites that can generate a random password, I wanted to add some \"personality\" to it. Therefore, I created a bot that would respond differently if the user input different answers."
   ]
  },
  {
   "cell_type": "markdown",
   "metadata": {},
   "source": [
    "## Project Code\n"
   ]
  },
  {
   "cell_type": "code",
   "execution_count": 15,
   "metadata": {
    "scrolled": true
   },
   "outputs": [],
   "source": [
    "from my_module.functions import *\n",
    "from my_module.test_functions import *\n",
    "import random\n",
    "import string"
   ]
  },
  {
   "cell_type": "code",
   "execution_count": 2,
   "metadata": {},
   "outputs": [
    {
     "name": "stdout",
     "output_type": "stream",
     "text": [
      "Hello, would you like to create a password? Type yes or no.\n",
      "Yes\n",
      "How long do you want your password?8\n",
      "Do you want numbers in your password? Type yes or no. Yes\n",
      "Do you want punctuation in your password? Type yes or no. Yes\n",
      "Your password is E=-xrF{O\n"
     ]
    }
   ],
   "source": [
    "#creating a password using \"yes\" and \"no\"\n",
    "password_creator()"
   ]
  },
  {
   "cell_type": "code",
   "execution_count": 2,
   "metadata": {
    "scrolled": false
   },
   "outputs": [
    {
     "name": "stdout",
     "output_type": "stream",
     "text": [
      "Hello, would you like to create a password? Type yes or no.\n",
      "yes\n",
      "How long do you want your password?1o\n",
      "Please input a number.\n",
      "10\n",
      "Do you want numbers in your password? Type yes or no. yea\n",
      "I don't understand. Please type yes or no.\n",
      "yes\n",
      "Do you want punctuation in your password? Type yes or no. na\n",
      "I don't understand. Please type yes or no.\n",
      "nope\n",
      "Do not understand input ):< ... punctuation will not be added in the password.\n",
      "Your password is 85vKloD533\n"
     ]
    }
   ],
   "source": [
    "#creating a password with complications\n",
    "password_creator()"
   ]
  },
  {
   "cell_type": "code",
   "execution_count": 2,
   "metadata": {
    "scrolled": true
   },
   "outputs": [
    {
     "name": "stdout",
     "output_type": "stream",
     "text": [
      "Hello, would you like to create a password? Type yes or no.\n",
      "yes\n",
      "How long do you want your password?idk\n",
      "Please input a number.\n",
      "0\n",
      "No password can be created with a length of zero ):<\n",
      "Goodbye.\n"
     ]
    }
   ],
   "source": [
    "#inputing 0 for password length\n",
    "password_creator()"
   ]
  },
  {
   "cell_type": "code",
   "execution_count": 19,
   "metadata": {},
   "outputs": [
    {
     "name": "stdout",
     "output_type": "stream",
     "text": [
      "============================= test session starts =============================\n",
      "platform win32 -- Python 3.7.6, pytest-5.4.3, py-1.8.1, pluggy-0.13.1\n",
      "rootdir: C:\\Users\\husha\\Documents\\ProjectTemplate\n",
      "plugins: hypothesis-5.5.4, arraydiff-0.3, astropy-header-0.1.2, doctestplus-0.5.0, openfiles-0.4.0, remotedata-0.3.2\n",
      "collected 6 items\n",
      "\n",
      "my_module\\tests\\test_functions.py ......                                 [100%]\n",
      "\n",
      "============================== 6 passed in 0.10s ==============================\n"
     ]
    }
   ],
   "source": [
    "#using pytest\n",
    "!pytest my_module/"
   ]
  }
 ],
 "metadata": {
  "kernelspec": {
   "display_name": "Python 3",
   "language": "python",
   "name": "python3"
  },
  "language_info": {
   "codemirror_mode": {
    "name": "ipython",
    "version": 3
   },
   "file_extension": ".py",
   "mimetype": "text/x-python",
   "name": "python",
   "nbconvert_exporter": "python",
   "pygments_lexer": "ipython3",
   "version": "3.7.6"
  }
 },
 "nbformat": 4,
 "nbformat_minor": 2
}
